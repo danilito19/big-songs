{
 "cells": [
  {
   "cell_type": "code",
   "execution_count": 1,
   "metadata": {
    "collapsed": false
   },
   "outputs": [],
   "source": [
    "import clean_data as cl"
   ]
  },
  {
   "cell_type": "code",
   "execution_count": 2,
   "metadata": {
    "collapsed": false
   },
   "outputs": [],
   "source": [
    "use_col_alpha = [\"C\", \"F\", \"I\", \"J\", \"K\", \"L\", \"M\", \"O\", \"P\", \"Q\", \"R\", \\\n",
    "                 \"Y\", \"AA\", \"AB\", \"AC\", \"AE\", \"AF\", \"AG\", \"AH\"]"
   ]
  },
  {
   "cell_type": "code",
   "execution_count": 3,
   "metadata": {
    "collapsed": false
   },
   "outputs": [],
   "source": [
    "col = []\n",
    "for i in use_col_alpha:\n",
    "    num = cl.column_to_number(i)\n",
    "    col.append(num)"
   ]
  },
  {
   "cell_type": "code",
<<<<<<< HEAD
<<<<<<< HEAD
=======
>>>>>>> da7317c3b80c6c17b1241f64414b1e0e16a7ed3d
   "execution_count": 4,
   "metadata": {
    "collapsed": false
   },
   "outputs": [
    {
     "data": {
      "text/plain": [
       "[2, 5, 8, 9, 10, 11, 12, 14, 15, 16, 17, 24, 26, 27, 28, 30, 31, 32, 33]"
      ]
     },
     "execution_count": 4,
     "metadata": {},
     "output_type": "execute_result"
    }
   ],
<<<<<<< HEAD
=======
   "execution_count": null,
   "metadata": {
    "collapsed": false
   },
   "outputs": [],
>>>>>>> fa02d979ac4a7f8cbd08bbad907167fa5b79a9f3
=======
>>>>>>> da7317c3b80c6c17b1241f64414b1e0e16a7ed3d
   "source": [
    "col"
   ]
  },
  {
   "cell_type": "code",
<<<<<<< HEAD
<<<<<<< HEAD
   "execution_count": 5,
=======
   "execution_count": null,
>>>>>>> fa02d979ac4a7f8cbd08bbad907167fa5b79a9f3
=======
   "execution_count": 5,
>>>>>>> da7317c3b80c6c17b1241f64414b1e0e16a7ed3d
   "metadata": {
    "collapsed": true
   },
   "outputs": [],
   "source": [
    "test_file_list = [\"test_data/a.csv\", \"test_data/b.csv\", \"test_data/c.csv\"]"
   ]
  },
  {
   "cell_type": "code",
<<<<<<< HEAD
<<<<<<< HEAD
   "execution_count": 6,
=======
   "execution_count": 4,
>>>>>>> fa02d979ac4a7f8cbd08bbad907167fa5b79a9f3
=======
   "execution_count": 6,
>>>>>>> da7317c3b80c6c17b1241f64414b1e0e16a7ed3d
   "metadata": {
    "collapsed": false
   },
   "outputs": [],
   "source": [
    "files = []\n",
    "alpha = \"abcdefghijklmnopqrstuvwxyz\"\n",
    "for i in range(26):\n",
    "    f = \"data/\" + alpha[i] + \".csv\"\n",
    "    files.append(f)\n",
    "    "
   ]
  },
  {
   "cell_type": "code",
<<<<<<< HEAD
<<<<<<< HEAD
   "execution_count": 7,
=======
   "execution_count": 5,
>>>>>>> fa02d979ac4a7f8cbd08bbad907167fa5b79a9f3
=======
   "execution_count": 7,
>>>>>>> da7317c3b80c6c17b1241f64414b1e0e16a7ed3d
   "metadata": {
    "collapsed": false
   },
   "outputs": [
    {
     "name": "stdout",
     "output_type": "stream",
     "text": [
      "[0, 4841, 9667, 14455, 19380, 24207, 29249, 33942, 38899, 43764, 48627, 53403, 58277, 63318, 68279, 73142, 78195, 83065, 88083, 93040, 97813, 102680, 107631, 112500, 117335, 122234, 127045]\n",
      "127045\n"
     ]
    }
   ],
   "source": [
<<<<<<< HEAD
<<<<<<< HEAD
    "data, labels = cl.clean(files, \"clean_data/full.csv\", col, folder=\"clean_data/\")"
=======
    "data, labels = cl.clean(files, \"clean_data/full_2.csv\", col, folder=\"clean_data/\")"
>>>>>>> fa02d979ac4a7f8cbd08bbad907167fa5b79a9f3
=======
    "data, labels = cl.clean(files, \"clean_data/full.csv\", col, folder=\"clean_data/\")"
>>>>>>> da7317c3b80c6c17b1241f64414b1e0e16a7ed3d
   ]
  },
  {
   "cell_type": "code",
   "execution_count": null,
   "metadata": {
    "collapsed": false
   },
   "outputs": [],
   "source": [
    "labels"
   ]
  },
  {
   "cell_type": "code",
<<<<<<< HEAD
<<<<<<< HEAD
=======
   "execution_count": 6,
   "metadata": {
    "collapsed": false
   },
   "outputs": [],
   "source": [
    "with open(\"clean_data/key.txt\", \"w\") as text_file:\n",
    "    for line in labels:\n",
    "        str_line = [str(line[0])] + list(line[1:])\n",
    "        row = \" \".join(str_line)\n",
    "        text_file.write(row+\"\\n\")"
   ]
  },
  {
   "cell_type": "code",
>>>>>>> fa02d979ac4a7f8cbd08bbad907167fa5b79a9f3
=======
>>>>>>> da7317c3b80c6c17b1241f64414b1e0e16a7ed3d
   "execution_count": null,
   "metadata": {
    "collapsed": true
   },
   "outputs": [],
   "source": []
  }
 ],
 "metadata": {
  "kernelspec": {
   "display_name": "Python 2",
   "language": "python",
   "name": "python2"
  },
  "language_info": {
   "codemirror_mode": {
    "name": "ipython",
    "version": 2
   },
   "file_extension": ".py",
   "mimetype": "text/x-python",
   "name": "python",
   "nbconvert_exporter": "python",
   "pygments_lexer": "ipython2",
   "version": "2.7.11"
  }
 },
 "nbformat": 4,
 "nbformat_minor": 0
}
